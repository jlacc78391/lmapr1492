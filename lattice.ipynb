{
 "cells": [
  {
   "cell_type": "code",
   "execution_count": 1,
   "id": "65e5366d",
   "metadata": {},
   "outputs": [],
   "source": [
    "import numpy as np\n",
    "from pymatgen.symmetry.analyzer import SpacegroupAnalyzer\n",
    "from pymatgen.core.structure import Structure\n",
    "from mp_api.client import MPRester"
   ]
  },
  {
   "cell_type": "code",
   "execution_count": 2,
   "id": "f387ab9b",
   "metadata": {},
   "outputs": [],
   "source": [
    "mp_key = \"rp4DtuzKYSzwLoY22WqkCtwvk1sjt8F3\"\n",
    "mp_id = \"mp-15781\""
   ]
  },
  {
   "cell_type": "code",
   "execution_count": 3,
   "id": "56425396",
   "metadata": {},
   "outputs": [
    {
     "data": {
      "application/vnd.jupyter.widget-view+json": {
       "model_id": "ff84f37c7c3147a38dcca1ca3b2cf085",
       "version_major": 2,
       "version_minor": 0
      },
      "text/plain": [
       "Retrieving MaterialsDoc documents:   0%|          | 0/1 [00:00<?, ?it/s]"
      ]
     },
     "metadata": {},
     "output_type": "display_data"
    },
    {
     "name": "stdout",
     "output_type": "stream",
     "text": [
      "Vecteurs de base du réseau direct:\n",
      "[[ 7.40564222 -2.14565931  0.        ]\n",
      " [ 7.40564222  2.14565931  0.        ]\n",
      " [ 6.78397381  0.          3.66402648]]\n",
      "\n",
      "Vecteurs de base du réseau réciproque:\n",
      "[[ 0.4242161  -1.46416192 -0.78543944]\n",
      " [ 0.4242161   1.46416192 -0.78543944]\n",
      " [ 0.          0.          1.71483076]]\n"
     ]
    }
   ],
   "source": [
    "with MPRester(mp_key) as m :\n",
    "    structure = m.get_structure_by_material_id(mp_id)\n",
    "\n",
    "    \n",
    "analyzer = SpacegroupAnalyzer(structure)\n",
    "primitive_structure = analyzer.get_primitive_standard_structure()\n",
    "\n",
    "direct_lattice_vectors = primitive_structure.lattice.matrix\n",
    "\n",
    "# Calcul des vecteurs de base du réseau réciproque\n",
    "reciprocal_lattice_vectors = np.linalg.inv(direct_lattice_vectors).T * 2 * np.pi\n",
    "\n",
    "print(\"Vecteurs de base du réseau direct:\")\n",
    "print(direct_lattice_vectors)\n",
    "\n",
    "print(\"\\nVecteurs de base du réseau réciproque:\")\n",
    "print(reciprocal_lattice_vectors)"
   ]
  },
  {
   "cell_type": "code",
   "execution_count": 4,
   "id": "50f881a0",
   "metadata": {},
   "outputs": [
    {
     "name": "stdout",
     "output_type": "stream",
     "text": [
      "\n",
      "Type de maille: rhombohedral\n",
      "Système cristallin: trigonal\n",
      "Groupe ponctuel: -3m\n"
     ]
    }
   ],
   "source": [
    "lattice_type = analyzer.get_lattice_type()\n",
    "crystal_system = analyzer.get_crystal_system()\n",
    "point_group = analyzer.get_point_group_symbol()\n",
    "print(\"\\nType de maille:\", lattice_type)\n",
    "print(\"Système cristallin:\", crystal_system)\n",
    "print(\"Groupe ponctuel:\", point_group)"
   ]
  }
 ],
 "metadata": {
  "kernelspec": {
   "display_name": "Python 3 (ipykernel)",
   "language": "python",
   "name": "python3"
  },
  "language_info": {
   "codemirror_mode": {
    "name": "ipython",
    "version": 3
   },
   "file_extension": ".py",
   "mimetype": "text/x-python",
   "name": "python",
   "nbconvert_exporter": "python",
   "pygments_lexer": "ipython3",
   "version": "3.9.13"
  }
 },
 "nbformat": 4,
 "nbformat_minor": 5
}
