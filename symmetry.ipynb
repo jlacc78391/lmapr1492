{
 "cells": [
  {
   "cell_type": "code",
   "execution_count": 1,
   "id": "816123ea",
   "metadata": {},
   "outputs": [],
   "source": [
    "import numpy as np\n",
    "from mp_api.client import MPRester\n",
    "from pymatgen.symmetry.analyzer import SpacegroupAnalyzer\n",
    "from pymatgen.core.structure import Structure\n",
    "from jupyter_jsmol.pymatgen import quick_view\n",
    "from jupyter_jsmol import JsmolView"
   ]
  },
  {
   "cell_type": "code",
   "execution_count": 2,
   "id": "0a609c75",
   "metadata": {},
   "outputs": [],
   "source": [
    "mp_key = \"rp4DtuzKYSzwLoY22WqkCtwvk1sjt8F3\"\n",
    "mp_id = \"mp-15781\""
   ]
  },
  {
   "cell_type": "code",
   "execution_count": 3,
   "id": "04ee8575",
   "metadata": {
    "scrolled": true
   },
   "outputs": [
    {
     "data": {
      "application/vnd.jupyter.widget-view+json": {
       "model_id": "3c104bf5da6b4a7f9595b29c5f825d1d",
       "version_major": 2,
       "version_minor": 0
      },
      "text/plain": [
       "Retrieving MaterialsDoc documents:   0%|          | 0/1 [00:00<?, ?it/s]"
      ]
     },
     "metadata": {},
     "output_type": "display_data"
    },
    {
     "name": "stdout",
     "output_type": "stream",
     "text": [
      "Opération : Rot:\n",
      "[[-1.  0.  0.]\n",
      " [ 0. -1.  0.]\n",
      " [ 0.  0. -1.]]\n",
      "tau\n",
      "[0. 0. 0.]\n",
      "Atome original : [0.333 0.667 0.167]\n",
      "Atome transformé : [-0.333 -0.667 -0.167]\n",
      "\n"
     ]
    },
    {
     "data": {
      "application/vnd.jupyter.widget-view+json": {
       "model_id": "d2fecd8b03184e18a7c83627b507a40c",
       "version_major": 2,
       "version_minor": 0
      },
      "text/plain": [
       "JsmolView(layout=Layout(align_self='stretch', height='400px'))"
      ]
     },
     "metadata": {},
     "output_type": "display_data"
    },
    {
     "name": "stdout",
     "output_type": "stream",
     "text": [
      "Opération : Rot:\n",
      "[[ 0. -1.  0.]\n",
      " [ 1. -1.  0.]\n",
      " [ 0.  0.  1.]]\n",
      "tau\n",
      "[0. 0. 0.]\n",
      "Atome original : [1.  1.  0.5]\n",
      "Atome transformé : [-1.   0.   0.5]\n",
      "\n"
     ]
    },
    {
     "data": {
      "application/vnd.jupyter.widget-view+json": {
       "model_id": "f7753ea4e72c4576bb406bbbd936b399",
       "version_major": 2,
       "version_minor": 0
      },
      "text/plain": [
       "JsmolView(layout=Layout(align_self='stretch', height='400px'))"
      ]
     },
     "metadata": {},
     "output_type": "display_data"
    },
    {
     "name": "stdout",
     "output_type": "stream",
     "text": [
      "Opération : Rot:\n",
      "[[ 0.  1.  0.]\n",
      " [-1.  1.  0.]\n",
      " [ 0.  0. -1.]]\n",
      "tau\n",
      "[0. 0. 0.]\n",
      "Atome original : [0.667 0.333 0.833]\n",
      "Atome transformé : [ 0.333 -0.333 -0.833]\n",
      "\n"
     ]
    },
    {
     "data": {
      "application/vnd.jupyter.widget-view+json": {
       "model_id": "6b851ed128104101955fc7af8af480fe",
       "version_major": 2,
       "version_minor": 0
      },
      "text/plain": [
       "JsmolView(layout=Layout(align_self='stretch', height='400px'))"
      ]
     },
     "metadata": {},
     "output_type": "display_data"
    }
   ],
   "source": [
    "with MPRester(mp_key) as m:\n",
    "    # Récupérer la structure du matériau\n",
    "    structure = m.get_structure_by_material_id(mp_id)\n",
    "\n",
    "# Analyse du groupe spatial\n",
    "analyzer = SpacegroupAnalyzer(structure)\n",
    "\n",
    "conv_struc = analyzer.get_conventional_standard_structure()\n",
    "symmops = SpacegroupAnalyzer(conv_struc).get_space_group_operations()\n",
    "selected_ops = symmops[1:4]\n",
    "\n",
    "atoms = conv_struc.sites[:3]\n",
    "\n",
    "# Appliquer les opérations de symétrie et visualiser avec jupyter-jsmol\n",
    "for op, atom in zip(selected_ops, atoms):\n",
    "    transformed_site = op.operate(atom.frac_coords)\n",
    "    print(f\"Opération : {op}\")\n",
    "    print(f\"Atome original : {np.round(atom.frac_coords, 3)}\")\n",
    "    print(f\"Atome transformé : {np.round(transformed_site, 3)}\\n\")\n",
    "    transformed_structure = conv_struc.copy()\n",
    "    transformed_structure.remove_sites([conv_struc.sites.index(atom)])\n",
    "    transformed_structure.append(atom.species, transformed_site, coords_are_cartesian = True)\n",
    "    view = quick_view(transformed_structure)\n",
    "    display(view)"
   ]
  }
 ],
 "metadata": {
  "kernelspec": {
   "display_name": "Python 3 (ipykernel)",
   "language": "python",
   "name": "python3"
  },
  "language_info": {
   "codemirror_mode": {
    "name": "ipython",
    "version": 3
   },
   "file_extension": ".py",
   "mimetype": "text/x-python",
   "name": "python",
   "nbconvert_exporter": "python",
   "pygments_lexer": "ipython3",
   "version": "3.9.13"
  }
 },
 "nbformat": 4,
 "nbformat_minor": 5
}
